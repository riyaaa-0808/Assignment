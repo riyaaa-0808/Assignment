{
 "cells": [
  {
   "cell_type": "markdown",
   "metadata": {},
   "source": [
    "Section 1: Conditional Statement \n"
   ]
  },
  {
   "cell_type": "markdown",
   "metadata": {},
   "source": [
    "1. Write a program that asks the user to enter a number and checks whether the number is even or odd. \n"
   ]
  },
  {
   "cell_type": "code",
   "execution_count": 3,
   "metadata": {},
   "outputs": [
    {
     "name": "stdout",
     "output_type": "stream",
     "text": [
      "8 is an even number.\n"
     ]
    }
   ],
   "source": [
    "num = int(input(\"Enter a number : \")) \n",
    "if num % 2 == 0:\n",
    "     print(f\"{num} is an even number.\")\n",
    "else:\n",
    "    print(f\"{num} is an odd number.\")\n"
   ]
  },
  {
   "cell_type": "markdown",
   "metadata": {},
   "source": [
    "2. Write a program that asks the user to enter a number and checks whether it is positive, negative, or zero. \n"
   ]
  },
  {
   "cell_type": "code",
   "execution_count": 4,
   "metadata": {},
   "outputs": [
    {
     "name": "stdout",
     "output_type": "stream",
     "text": [
      "The number is negative.\n"
     ]
    }
   ],
   "source": [
    "num = float(input(\"Enter a number : \"))\n",
    "if num > 0:\n",
    "    print(\"The number is positive.\")\n",
    "elif num < 0:\n",
    "    print(\"The number is negative.\")\n",
    "else:\n",
    "    print(\"The number is zero.\")\n"
   ]
  },
  {
   "cell_type": "markdown",
   "metadata": {},
   "source": [
    "3. Write a program that asks the user to enter their age and checks if they are eligible to vote (18 years or older). \n"
   ]
  },
  {
   "cell_type": "code",
   "execution_count": 6,
   "metadata": {},
   "outputs": [
    {
     "name": "stdout",
     "output_type": "stream",
     "text": [
      " YAYYYY! You can Vote.\n"
     ]
    }
   ],
   "source": [
    "age = int(input(\"Enter your age : \"))\n",
    "if age >= 18:\n",
    "    print(\" YAYYYY! You can Vote.\")\n",
    "else:\n",
    "    print(\"Sorry, you are not eligible to vote.\")"
   ]
  },
  {
   "cell_type": "markdown",
   "metadata": {},
   "source": [
    "4. Write a program that takes the lengths of three sides of a triangle as input and determines if the triangle is: \n",
    " Equilateral (all sides are equal) \n",
    " Isosceles (two sides are equal) \n",
    " Scalene (all sides are different) \n"
   ]
  },
  {
   "cell_type": "markdown",
   "metadata": {},
   "source": []
  },
  {
   "cell_type": "code",
   "execution_count": 14,
   "metadata": {},
   "outputs": [
    {
     "name": "stdout",
     "output_type": "stream",
     "text": [
      "It is isosceles triangle.\n"
     ]
    }
   ],
   "source": [
    "length1 = int(input(\"Enter the length of one side :\"))\n",
    "length2 = int(input(\"Enter the length of second side :\"))\n",
    "length3 = int(input(\"Enter the length of third side :\"))\n",
    "if length1 == length2 and length2 == length3 :\n",
    "    print(\"It is equilateral triangle.\")\n",
    "elif length1!=length2 and length2!=length3 :\n",
    "    print(\"It is scalene triangle.\")\n",
    "else:\n",
    "    print(\"It is isosceles triangle.\")\n",
    "\n"
   ]
  },
  {
   "cell_type": "markdown",
   "metadata": {},
   "source": [
    " 5.Write a program that asks the user to enter a password and checks if it matches a predefined password (e.g., \"Python123\"). \n"
   ]
  },
  {
   "cell_type": "code",
   "execution_count": 23,
   "metadata": {},
   "outputs": [
    {
     "name": "stdout",
     "output_type": "stream",
     "text": [
      "Sorry, your password is incorrect:(\n"
     ]
    }
   ],
   "source": [
    "password = input(\"Enter your password: \")\n",
    "if password == \"Python123\" :\n",
    "    print(\"Your password is correct.\")\n",
    "else:\n",
    "    \n",
    "    print(\"Sorry, your password is incorrect:(\")"
   ]
  },
  {
   "cell_type": "markdown",
   "metadata": {},
   "source": [
    "Section 2: For Loops\n"
   ]
  },
  {
   "cell_type": "markdown",
   "metadata": {},
   "source": [
    "6. Write a Python program to print the multiplication table of a given number using a for loop. \n"
   ]
  },
  {
   "cell_type": "markdown",
   "metadata": {},
   "source": []
  },
  {
   "cell_type": "code",
   "execution_count": 1,
   "metadata": {},
   "outputs": [
    {
     "name": "stdout",
     "output_type": "stream",
     "text": [
      "6 * 1 = 6\n",
      "6 * 2 = 12\n",
      "6 * 3 = 18\n",
      "6 * 4 = 24\n",
      "6 * 5 = 30\n",
      "6 * 6 = 36\n",
      "6 * 7 = 42\n",
      "6 * 8 = 48\n",
      "6 * 9 = 54\n",
      "6 * 10 = 60\n"
     ]
    }
   ],
   "source": [
    "# multiplication of 5\n",
    "num = int(input(\"Enter a number to print its multiplication: \"))\n",
    "for i in range (1,11): # using step value\n",
    "    print(f\"{num} * {i} = {num * i}\")"
   ]
  },
  {
   "cell_type": "markdown",
   "metadata": {},
   "source": [
    "7. Write a program to count and display the number of vowels in a given string. \n"
   ]
  },
  {
   "cell_type": "code",
   "execution_count": 18,
   "metadata": {},
   "outputs": [
    {
     "name": "stdout",
     "output_type": "stream",
     "text": [
      "The number of vowels in this word are: 2\n"
     ]
    }
   ],
   "source": [
    "vow = (input(\"Enter a word\"))\n",
    "vowels = \"aeiouAEIOU\"\n",
    "vowel_count = 0\n",
    "\n",
    "for char in vow:\n",
    "    if char in vowels:\n",
    "        vowel_count += 1 \n",
    "print(f\"The number of vowels in this word are: {vowel_count}\")\n"
   ]
  },
  {
   "cell_type": "markdown",
   "metadata": {},
   "source": [
    "8. Sum of Even Numbers Create a program to find the sum of all even numbers in a list using a for loop. \n"
   ]
  },
  {
   "cell_type": "code",
   "execution_count": 17,
   "metadata": {},
   "outputs": [
    {
     "name": "stdout",
     "output_type": "stream",
     "text": [
      " The sum of even numbers in a list are: 10\n"
     ]
    }
   ],
   "source": [
    "numbers = [2, 5, 8, 3]\n",
    "even_sum = 0\n",
    "\n",
    "for num in numbers:\n",
    "    if num % 2 == 0: #checking if the num is odd or even\n",
    "        even_sum += num \n",
    "print(f\" The sum of even numbers in a list are: {even_sum}\")"
   ]
  },
  {
   "cell_type": "markdown",
   "metadata": {},
   "source": [
    "9. Create a program to find the largest and smallest numbers in a list using a for loop. \n"
   ]
  },
  {
   "cell_type": "code",
   "execution_count": 9,
   "metadata": {},
   "outputs": [
    {
     "name": "stdout",
     "output_type": "stream",
     "text": [
      "The smallest number in the list is : 5\n",
      "The largest number in the list is : 20\n"
     ]
    }
   ],
   "source": [
    "numbers = [10, 20, 5, 8]\n",
    "\n",
    "small = numbers[0]\n",
    "large = numbers[0]\n",
    "\n",
    "for num in numbers:\n",
    "    if num < small:\n",
    "        small = num\n",
    "        \n",
    "    if num > large:\n",
    "        large = num\n",
    "\n",
    "print(f\"The smallest number in the list is : {small}\")\n",
    "print(f\"The largest number in the list is : {large}\")"
   ]
  },
  {
   "cell_type": "markdown",
   "metadata": {},
   "source": [
    "10. Write a program to calculate the sum of digits of a given number using a for loop. \n"
   ]
  },
  {
   "cell_type": "code",
   "execution_count": null,
   "metadata": {},
   "outputs": [],
   "source": [
    "num = int(input(\"Enter a number : \"))\n",
    "sum_digit = 0\n",
    "\n",
    "for digit in str(num):\n",
    "    sum_digit += int(digit)\n",
    "print(f\"The sum of the digits of {num} is : {sum_digit}\")"
   ]
  },
  {
   "cell_type": "markdown",
   "metadata": {},
   "source": [
    "11. Write a program to reverse a given string using a for loop. "
   ]
  },
  {
   "cell_type": "code",
   "execution_count": 1,
   "metadata": {},
   "outputs": [
    {
     "name": "stdout",
     "output_type": "stream",
     "text": [
      "The reversed string is : ayir\n"
     ]
    }
   ],
   "source": [
    "str = input(\"Enter a string :\")\n",
    "reversed_string = \"\"\n",
    "for char in str:\n",
    "    reversed_string = char + reversed_string\n",
    "print(f\"The reversed string is : {reversed_string}\")"
   ]
  },
  {
   "cell_type": "markdown",
   "metadata": {},
   "source": [
    "Section 3: Functions \n"
   ]
  },
  {
   "cell_type": "markdown",
   "metadata": {},
   "source": [
    "1. Write a function factorial(n) that returns the factorial of a number using a for loop. "
   ]
  },
  {
   "cell_type": "code",
   "execution_count": 14,
   "metadata": {},
   "outputs": [
    {
     "name": "stdout",
     "output_type": "stream",
     "text": [
      "The factorial of 5 is 120.\n"
     ]
    }
   ],
   "source": [
    "def factorial():\n",
    "    num = int(input(\"Enter a number to calculate its factorial: \"))\n",
    "    if num < 0:\n",
    "        print(\"Factorial not defined for negative numbers.\")\n",
    "        return\n",
    "    result = 1\n",
    "    for i in range(1, num + 1):\n",
    "        result *= i\n",
    "    print(f\"The factorial of {num} is {result}.\")\n",
    "\n",
    "factorial()\n"
   ]
  },
  {
   "cell_type": "markdown",
   "metadata": {},
   "source": [
    "2. Prime Check Function: Create a function is_prime(n) to check whether a number is prime. "
   ]
  },
  {
   "cell_type": "code",
   "execution_count": 16,
   "metadata": {},
   "outputs": [
    {
     "name": "stdout",
     "output_type": "stream",
     "text": [
      "True\n",
      "True\n",
      "True\n",
      "True\n",
      "True\n"
     ]
    }
   ],
   "source": [
    "num = 7\n",
    "for i in range(2,num):\n",
    " if num % i == 0:\n",
    "     print(\"False\")\n",
    " else:\n",
    "     print(\"True\")"
   ]
  },
  {
   "cell_type": "markdown",
   "metadata": {},
   "source": [
    "3. Write a function find_max(lst) to find and return the maximum value in a list. \n"
   ]
  },
  {
   "cell_type": "code",
   "execution_count": 8,
   "metadata": {},
   "outputs": [
    {
     "name": "stdout",
     "output_type": "stream",
     "text": [
      "The maximum value is: 7 \n"
     ]
    }
   ],
   "source": [
    "numbers = [1, 3, 7, 0]\n",
    "max = numbers[0]\n",
    "for num in numbers:\n",
    "    if num > max:\n",
    "        max = num\n",
    "print(f\"The maximum value is: {max} \")"
   ]
  },
  {
   "cell_type": "markdown",
   "metadata": {},
   "source": [
    "4. Write a function palindrome_check(string) that returns True if the given string is a palindrome, otherwise False. \n"
   ]
  },
  {
   "cell_type": "code",
   "execution_count": 1,
   "metadata": {},
   "outputs": [
    {
     "name": "stdout",
     "output_type": "stream",
     "text": [
      "True\n"
     ]
    }
   ],
   "source": [
    "def palindrome_check(string):\n",
    "    \n",
    "\n",
    "    if string == string[::-1]:\n",
    "        return True\n",
    "    else:\n",
    "        return False\n",
    "    \n",
    "input_string = \"radar\"\n",
    "result = palindrome_check(input_string)\n",
    "print(result)  "
   ]
  },
  {
   "cell_type": "markdown",
   "metadata": {},
   "source": [
    "5. Write a function sum_of_squares(n) that returns the sum of squares of the first n natural numbers. \n"
   ]
  },
  {
   "cell_type": "code",
   "execution_count": 5,
   "metadata": {},
   "outputs": [
    {
     "name": "stdout",
     "output_type": "stream",
     "text": [
      "The sum of squares of the first 6 natural numbers is: 55\n"
     ]
    }
   ],
   "source": [
    "def sum_of_squares(n):\n",
    "\n",
    "    total_sum = 0\n",
    "    for i in range(1, 6):\n",
    "        total_sum += i ** 2  \n",
    "    return total_sum \n",
    "\n",
    "n = input(\"Enter a number for sum of square: \")\n",
    "result = sum_of_squares(n)\n",
    "print(f\"The sum of squares of the first {n} natural numbers is: {result}\")\n"
   ]
  },
  {
   "cell_type": "markdown",
   "metadata": {},
   "source": [
    "Section: 4 Classes\n"
   ]
  },
  {
   "cell_type": "markdown",
   "metadata": {},
   "source": [
    "1. Rectangle Class:Define a class Rectangle with: \n",
    "a) Two attributes: length and width. \n",
    "b) A method area() to calculate the area. \n",
    "c) A method perimeter() to calculate the perimeter. \n"
   ]
  },
  {
   "cell_type": "code",
   "execution_count": 7,
   "metadata": {},
   "outputs": [
    {
     "name": "stdout",
     "output_type": "stream",
     "text": [
      "Area: 525\n",
      "Perimeter: 100\n"
     ]
    }
   ],
   "source": [
    "class Rectangle:\n",
    "    def __init__(self, length, width):\n",
    "        self.length = length\n",
    "        self.width = width\n",
    "\n",
    "    def area(self):\n",
    "        return self.length * self.width\n",
    "\n",
    "    def perimeter(self):\n",
    "        return 2 * (self.length + self.width)\n",
    "\n",
    "rect = Rectangle(35, 15)\n",
    "\n",
    "print(f\"Area: {rect.area()}\")  \n",
    "print(f\"Perimeter: {rect.perimeter()}\")"
   ]
  },
  {
   "cell_type": "markdown",
   "metadata": {},
   "source": [
    "\n",
    "\n",
    "2. Student Class: Create a class Student with:\n",
    "(a) Attributes: name, roll_number, and marks.\n",
    "(b) A method display_details() to print the student's details.\n",
    "(c) A method is_passed() that returns True if marks ≥ 40, else False."
   ]
  },
  {
   "cell_type": "code",
   "execution_count": 9,
   "metadata": {},
   "outputs": [
    {
     "name": "stdout",
     "output_type": "stream",
     "text": [
      "Name is: Riya\n",
      "Roll no is: 24\n",
      "Marks is: 97\n"
     ]
    }
   ],
   "source": [
    "class student:\n",
    "     def put(self):\n",
    "          self.name = input(\"Enter your name: \")\n",
    "          self.roll = input(\"Enter your roll number: \")\n",
    "          self.marks = input(\"Enter your obtained marks: \")\n",
    "\n",
    "     def display(self):\n",
    "        print(f\"Name is: {self.name}\")\n",
    "        print(f\"Roll no is: {self.roll}\")\n",
    "        print(f\"Marks is: {self.marks}\")\n",
    "     \n",
    "std = student()\n",
    "\n",
    "std.put()\n",
    "std.display()"
   ]
  },
  {
   "cell_type": "markdown",
   "metadata": {},
   "source": [
    "3. Define a class Circle with:\n",
    "(a) Attribute: radius.\n",
    "(b) Methods: area() to calculate the area, circumference() to calculate the circumference."
   ]
  },
  {
   "cell_type": "code",
   "execution_count": 11,
   "metadata": {},
   "outputs": [
    {
     "name": "stdout",
     "output_type": "stream",
     "text": [
      "Area: 201.06192982974676\n",
      "Circumference: 50.26548245743669\n"
     ]
    }
   ],
   "source": [
    "import math\n",
    "\n",
    "class Circle:\n",
    "    def __init__(self, radius):\n",
    "        self.radius = radius\n",
    "\n",
    "    def area(self):\n",
    "        return math.pi * (self.radius ** 2)\n",
    "\n",
    "    def circumference(self):\n",
    "        return 2 * math.pi * self.radius\n",
    "\n",
    "\n",
    "circle = Circle(8)\n",
    "print(\"Area:\", circle.area())\n",
    "print(\"Circumference:\", circle.circumference())"
   ]
  },
  {
   "cell_type": "markdown",
   "metadata": {},
   "source": [
    "4. Create a class BankAccount with:\n",
    "Attributes: account_number, account_holder, balance.\n",
    "Methods:\n",
    "deposit(amount) to add money to the account.\n",
    "withdraw(amount) to subtract money (if sufficient balance is available).\n",
    "display_balance() to print the current balance.\n"
   ]
  },
  {
   "cell_type": "code",
   "execution_count": 16,
   "metadata": {},
   "outputs": [
    {
     "name": "stdout",
     "output_type": "stream",
     "text": [
      "Deposited Amount: 1000, Your Balance: 6000\n",
      "Withdrawl Amount: 300, New Balance is: 5700\n",
      "Current Balance: 5700\n"
     ]
    }
   ],
   "source": [
    "class BankAccount:\n",
    "     def __init__(self, Account_number, Account_holder, balance = 0):\n",
    "          self.Account_number = Account_number\n",
    "          self.Account_holder = Account_holder\n",
    "          self.balance = balance \n",
    "\n",
    "     def deposit(self, amount):\n",
    "          if amount > 0:\n",
    "               self.balance += amount \n",
    "               print(f\"Deposited Amount: {amount}, Your Balance: {self.balance}\")\n",
    "          else:\n",
    "               print(\"Error!\")\n",
    "\n",
    "     def withdraw(self, amount):\n",
    "          if amount > 0:\n",
    "               if self.balance > amount:\n",
    "                    self.balance -= amount\n",
    "                    print(f\"Withdrawl Amount: {amount}, New Balance is: {self.balance}\")\n",
    "     \n",
    "     def display_balance(self):\n",
    "          print(f\"Current Balance: {self.balance}\")\n",
    "\n",
    "account = BankAccount(789456123, \"Riya\", 5000)\n",
    "account.deposit(1000)\n",
    "account.withdraw(300)\n",
    "account.display_balance()  \n",
    "            "
   ]
  },
  {
   "cell_type": "markdown",
   "metadata": {},
   "source": [
    "5. A class Book with:\n",
    "Attributes: title, author, price.\n",
    "Methods:\n",
    "apply_discount(discount) to reduce the price by a given percentage.\n",
    "display_details() to print the book details."
   ]
  },
  {
   "cell_type": "code",
   "execution_count": 18,
   "metadata": {},
   "outputs": [
    {
     "name": "stdout",
     "output_type": "stream",
     "text": [
      "Title of the Book: Three mistakes\n",
      "Author of the Book: John Valentino\n",
      "Price of the Book: 1600\n",
      "Price after Applying discount: 1440.0\n"
     ]
    }
   ],
   "source": [
    "class Book:\n",
    "     def __init__(self, title, author, price):\n",
    "          self.title = title\n",
    "          self.author = author\n",
    "          self.price = price\n",
    "\n",
    "     def apply_discount(self, discount):\n",
    "          if   0 <= discount <= 100:\n",
    "               self.price -= self.price * (discount / 100)\n",
    "               print(f\"Price after Applying discount: {self.price}\") \n",
    "          else:\n",
    "               print(\"Invalid Discount!.\")\n",
    "\n",
    "     def display_details(self):\n",
    "          print(f\"Title of the Book: {self.title}\")\n",
    "          print(f\"Author of the Book: {self.author}\")\n",
    "          print(f\"Price of the Book: {self.price}\")\n",
    "\n",
    "Details = Book(\"Three mistakes\", \"John Valentino\", 1600)\n",
    "Details.display_details()\n",
    "Details.apply_discount(10)"
   ]
  },
  {
   "cell_type": "markdown",
   "metadata": {},
   "source": [
    "6. Create a class Calculator with:\n",
    "A method add(a, b) to add two numbers.\n",
    "A method subtract(a, b) to subtract two numbers.\n",
    "A method multiply(a, b) to multiply two numbers.\n",
    "A method divide(a, b) to divide two numbers (handle division by zero gracefully)."
   ]
  },
  {
   "cell_type": "code",
   "execution_count": 19,
   "metadata": {},
   "outputs": [
    {
     "name": "stdout",
     "output_type": "stream",
     "text": [
      "Addition: 15\n",
      "Subtraction: 5\n",
      "Multiplication: 50\n",
      "Division: 2.0\n"
     ]
    }
   ],
   "source": [
    "class Calculator:\n",
    "     def add(self, a, b):\n",
    "         return a + b \n",
    "     \n",
    "     def subtract(self, a, b):\n",
    "          return a - b\n",
    "     \n",
    "     def multiply(self, a, b):\n",
    "          return a * b\n",
    "     \n",
    "     def divide(self, a, b):\n",
    "          if b != 0:\n",
    "               return a / b\n",
    "          else:\n",
    "               return \"Cannot divide by zero!\"\n",
    "          \n",
    "calc = Calculator()\n",
    "\n",
    "print(\"Addition:\", calc.add(5, 10))\n",
    "print(\"Subtraction:\", calc.subtract(10, 5))\n",
    "print(\"Multiplication:\", calc.multiply(10, 5))\n",
    "print(\"Division:\", calc.divide(10, 5))"
   ]
  },
  {
   "cell_type": "markdown",
   "metadata": {},
   "source": [
    "7. Write a class Person with:\n",
    "Attributes: name, age, gender.\n",
    "Method introduce() to print a message like: \"Hello, my name is [name], I am [age] years old, and I am a [gender].\"\n",
    "Create a subclass Employee that adds:\n",
    "Attribute: job_title.\n",
    "Override introduce() to include the job title."
   ]
  },
  {
   "cell_type": "code",
   "execution_count": 21,
   "metadata": {},
   "outputs": [
    {
     "name": "stdout",
     "output_type": "stream",
     "text": [
      "Hi, My name is Riya Baral, I am 18 years old and I am a Female.\n",
      "Hello, My name is Niana, I am 20 years old, I am a Female and I work as a Graphic Designer.\n"
     ]
    }
   ],
   "source": [
    "class Person:\n",
    "     def __init__(self, name, age, gender):\n",
    "          self.name = name\n",
    "          self.age = age\n",
    "          self.gender = gender\n",
    "\n",
    "     def introduce(self):\n",
    "          print(f\"Hi, My name is {self.name}, I am {self.age} years old and I am a {self.gender}.\")\n",
    "     \n",
    "class Employee(Person):\n",
    "    def __init__(self, name, age, gender, job_title):\n",
    "        super().__init__(name, age, gender) \n",
    "        self.job_title = job_title\n",
    "\n",
    "    def introduce(self):\n",
    "        print(f\"Hello, My name is {self.name}, I am {self.age} years old, I am a {self.gender} and I work as a {self.job_title}.\")\n",
    "\n",
    "human = Person(\"Riya Baral\",\"18\", \"Female\")\n",
    "human.introduce()\n",
    "\n",
    "employee = Employee(\"Niana\", 20, \"Female\", \"Graphic Designer\")\n",
    "employee.introduce()"
   ]
  },
  {
   "cell_type": "markdown",
   "metadata": {},
   "source": [
    "Section 5: File Handling"
   ]
  },
  {
   "cell_type": "markdown",
   "metadata": {},
   "source": [
    "1. File Creation and Writing: Write a Python script to:\n",
    "Create a file named data.txt.\n",
    "Write the numbers from 1 to 10 (each on a new line) to the file.\n",
    "Read the file and print its contents."
   ]
  },
  {
   "cell_type": "code",
   "execution_count": 22,
   "metadata": {},
   "outputs": [
    {
     "name": "stdout",
     "output_type": "stream",
     "text": [
      "1\n",
      "2\n",
      "3\n",
      "4\n",
      "5\n",
      "6\n",
      "7\n",
      "8\n",
      "9\n",
      "10\n",
      "\n"
     ]
    }
   ],
   "source": [
    "with open(\"data.txt\", \"w\") as file:\n",
    "    for number in range(1, 11):\n",
    "        file.writelines(f\"{number}\\n\")\n",
    "\n",
    "with open(\"data.txt\", \"r\") as file:\n",
    "    print(file.read())"
   ]
  },
  {
   "cell_type": "markdown",
   "metadata": {},
   "source": [
    "2. Word Count in File: Write a program that reads a file named sample.txt, counts the number of words in it, and prints the result."
   ]
  },
  {
   "cell_type": "code",
   "execution_count": 1,
   "metadata": {},
   "outputs": [
    {
     "name": "stdout",
     "output_type": "stream",
     "text": [
      "The number of the words in the file is : 7.\n"
     ]
    }
   ],
   "source": [
    "with open('sample.txt', 'w') as file:\n",
    "    file.write(\"Hello, I am Pratiksha Younjan Tamang !\")\n",
    "\n",
    "with open('sample.txt', 'r') as file: # Creating a file sample.txt for reading.\n",
    "    contents = file.read() \n",
    "\n",
    "    words = contents.split()\n",
    "    word_count = len(words)\n",
    "\n",
    "    print(f\"The number of the words in the file is : {word_count}.\")\n"
   ]
  },
  {
   "cell_type": "markdown",
   "metadata": {},
   "source": [
    "Section 6: Error Handling"
   ]
  },
  {
   "cell_type": "markdown",
   "metadata": {},
   "source": [
    "1. Division with Error Handling: Write a program that takes two numbers as input and divides the first number by the second."
   ]
  },
  {
   "cell_type": "code",
   "execution_count": 4,
   "metadata": {},
   "outputs": [
    {
     "name": "stdout",
     "output_type": "stream",
     "text": [
      "Runtime Error: division by zero\n",
      "Logical Result: 2.0\n"
     ]
    }
   ],
   "source": [
    "try:\n",
    "    result = 10 / 0  \n",
    "except ZeroDivisionError as e:\n",
    " print(f\"Runtime Error: {e}\")\n",
    "\n",
    "    \n",
    " a = int(input(\"Enter First Number: \"))\n",
    " b = int(input(\"Enter Second Number: \"))\n",
    "result = a / b  \n",
    "print(f\"Logical Result: {result}\") \n"
   ]
  },
  {
   "cell_type": "markdown",
   "metadata": {},
   "source": [
    "2. Integer Input Validation: Create a program that asks the user to input an integer.\n",
    "Use try, except, and else to handle invalid input.\n",
    "Example:\n",
    "(a) Input: abc\n",
    "(b) Output: \"Invalid input, please enter an integer.\""
   ]
  },
  {
   "cell_type": "code",
   "execution_count": 6,
   "metadata": {},
   "outputs": [
    {
     "name": "stdout",
     "output_type": "stream",
     "text": [
      "Invalid input, Please enter an integer.\n"
     ]
    }
   ],
   "source": [
    "def integer_input():\n",
    "     try:\n",
    "        int_input = int(input(\"Enter an integer: \"))\n",
    "\n",
    "     except ValueError:\n",
    "        print(\"Invalid input, Please enter an integer.\")\n",
    "     else:\n",
    "        print(f\"Your Entered Integer: {int_input}\")\n",
    "integer_input()"
   ]
  },
  {
   "cell_type": "markdown",
   "metadata": {},
   "source": [
    "3. File Not Found Error Handling: Write a script that:\n",
    "Opens a file named unknown.txt.\n",
    "Handles the FileNotFoundError gracefully and prints an appropriate message."
   ]
  },
  {
   "cell_type": "code",
   "execution_count": 7,
   "metadata": {},
   "outputs": [
    {
     "name": "stdout",
     "output_type": "stream",
     "text": [
      "Sorry! File 'unknown.txt' not found. Please try again.\n"
     ]
    }
   ],
   "source": [
    "def file_find():\n",
    "     try:\n",
    "          with open(\"unknown.txt\", \"r\") as file:\n",
    "               read = file.read()\n",
    "               print(read)\n",
    "     except FileNotFoundError:\n",
    "          print(\"Sorry! File 'unknown.txt' not found. Please try again.\")\n",
    "\n",
    "file_find()\n"
   ]
  },
  {
   "cell_type": "markdown",
   "metadata": {},
   "source": [
    "Additional:"
   ]
  },
  {
   "cell_type": "markdown",
   "metadata": {},
   "source": [
    "Create a python class called Employee with attributes name, position, and salary, and a method display() that prints all the details both methods: a) Ask User b) Parameter passing."
   ]
  },
  {
   "cell_type": "code",
   "execution_count": 8,
   "metadata": {},
   "outputs": [
    {
     "name": "stdout",
     "output_type": "stream",
     "text": [
      "Employee Name : Riya\n",
      "Position : data analyst\n",
      "Salary : 40000\n",
      "Employee Name : Riya Baral\n",
      "Position : Graphic Designer\n",
      "Salary : 70000\n"
     ]
    }
   ],
   "source": [
    "class Employee:\n",
    "    def __init__(self,  name= None, position=None, salary=None):\n",
    "        self.name = name\n",
    "        self.position = position \n",
    "        self.salary = salary\n",
    "# method to display the details of the employee\n",
    "    def display(self):\n",
    "        print(f\"Employee Name : {self.name}\")\n",
    "        print(f\"Position : {self.position}\")\n",
    "        print(f\"Salary : {self.salary}\")\n",
    "\n",
    "\n",
    "#method to ask user for employee details\n",
    "\n",
    "    def ask_user(self):\n",
    "        self.name = input(\"Enter the employee name :\")\n",
    "        self.position = input(\"Enter Position :\")\n",
    "        self.salary = int(input(\"Enter Salary :\"))\n",
    "# Method a) Ask user\n",
    "employee = Employee()\n",
    "employee.ask_user()  \n",
    "employee.display() \n",
    "\n",
    "# Method b) Parameter passing\n",
    "\n",
    "employee1 = Employee(\"Riya Baral\", \"Graphic Designer\", 70000) # Passing parameters.\n",
    "employee1.display()"
   ]
  }
 ],
 "metadata": {
  "kernelspec": {
   "display_name": "Python 3",
   "language": "python",
   "name": "python3"
  },
  "language_info": {
   "codemirror_mode": {
    "name": "ipython",
    "version": 3
   },
   "file_extension": ".py",
   "mimetype": "text/x-python",
   "name": "python",
   "nbconvert_exporter": "python",
   "pygments_lexer": "ipython3",
   "version": "3.13.0"
  }
 },
 "nbformat": 4,
 "nbformat_minor": 2
}
